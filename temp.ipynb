{
 "cells": [
  {
   "cell_type": "code",
   "execution_count": null,
   "metadata": {},
   "outputs": [
    {
     "ename": "",
     "evalue": "",
     "output_type": "error",
     "traceback": [
      "\u001b[1;31mFailed to start the Kernel. \n",
      "\u001b[1;31mTraceback (most recent call last):\n",
      "\u001b[1;31m  File \"/home/winata/.local/lib/python3.10/site-packages/traitlets/config/application.py\", line 113, in inner\n",
      "\u001b[1;31m    return method(app, *args, **kwargs)\n",
      "\u001b[1;31m  File \"/home/winata/.local/lib/python3.10/site-packages/traitlets/config/application.py\", line 883, in parse_command_line\n",
      "\u001b[1;31m    self.update_config(self.cli_config)\n",
      "\u001b[1;31m  File \"/home/winata/.local/lib/python3.10/site-packages/traitlets/config/configurable.py\", line 230, in update_config\n",
      "\u001b[1;31m    self._load_config(config)\n",
      "\u001b[1;31m  File \"/home/winata/.local/lib/python3.10/site-packages/traitlets/config/configurable.py\", line 167, in _load_config\n",
      "\u001b[1;31m    with self.hold_trait_notifications():\n",
      "\u001b[1;31m  File \"/usr/lib/python3.10/contextlib.py\", line 142, in __exit__\n",
      "\u001b[1;31m    next(self.gen)\n",
      "\u001b[1;31m  File \"/home/winata/.local/lib/python3.10/site-packages/traitlets/traitlets.py\", line 1492, in hold_trait_notifications\n",
      "\u001b[1;31m    raise e\n",
      "\u001b[1;31m  File \"/home/winata/.local/lib/python3.10/site-packages/traitlets/traitlets.py\", line 1478, in hold_trait_notifications\n",
      "\u001b[1;31m    value = trait._cross_validate(self, getattr(self, name))\n",
      "\u001b[1;31m  File \"/home/winata/.local/lib/python3.10/site-packages/traitlets/traitlets.py\", line 746, in _cross_validate\n",
      "\u001b[1;31m    value = obj._trait_validators<a href='obj, proposal'>self.name</a>\n",
      "\u001b[1;31m  File \"/home/winata/.local/lib/python3.10/site-packages/traitlets/traitlets.py\", line 1232, in __call__\n",
      "\u001b[1;31m    return self.func(*args, **kwargs)\n",
      "\u001b[1;31m  File \"/home/winata/.local/lib/python3.10/site-packages/notebook/notebookapp.py\", line 1523, in _notebook_dir_validate\n",
      "\u001b[1;31m    raise TraitError(trans.gettext(\"No such notebook dir: '%r'\") % value)\n",
      "\u001b[1;31mtraitlets.traitlets.TraitError: No such notebook dir: ''/kelaswindata/windata''\n",
      "\u001b[1;31m\n",
      "\u001b[1;31mDuring handling of the above exception, another exception occurred:\n",
      "\u001b[1;31m\n",
      "\u001b[1;31mTraceback (most recent call last):\n",
      "\u001b[1;31m  File \"/home/winata/.vscode/extensions/ms-toolsai.jupyter-2022.11.1003412109/pythonFiles/vscode_datascience_helpers/daemon/daemon_python.py\", line 54, in _decorator\n",
      "\u001b[1;31m    return func(self, *args, **kwargs)\n",
      "\u001b[1;31m  File \"/home/winata/.vscode/extensions/ms-toolsai.jupyter-2022.11.1003412109/pythonFiles/vscode_datascience_helpers/jupyter_daemon.py\", line 111, in m_exec_module_observable\n",
      "\u001b[1;31m    self._start_notebook(args, cwd, env)\n",
      "\u001b[1;31m  File \"/home/winata/.vscode/extensions/ms-toolsai.jupyter-2022.11.1003412109/pythonFiles/vscode_datascience_helpers/jupyter_daemon.py\", line 168, in _start_notebook\n",
      "\u001b[1;31m    app.launch_new_instance()\n",
      "\u001b[1;31m  File \"/home/winata/.local/lib/python3.10/site-packages/jupyter_core/application.py\", line 276, in launch_instance\n",
      "\u001b[1;31m    return super().launch_instance(argv=argv, **kwargs)\n",
      "\u001b[1;31m  File \"/home/winata/.local/lib/python3.10/site-packages/traitlets/config/application.py\", line 1040, in launch_instance\n",
      "\u001b[1;31m    app.initialize(argv)\n",
      "\u001b[1;31m  File \"/home/winata/.local/lib/python3.10/site-packages/traitlets/config/application.py\", line 113, in inner\n",
      "\u001b[1;31m    return method(app, *args, **kwargs)\n",
      "\u001b[1;31m  File \"/home/winata/.local/lib/python3.10/site-packages/notebook/notebookapp.py\", line 2142, in initialize\n",
      "\u001b[1;31m    super().initialize(argv)\n",
      "\u001b[1;31m  File \"/home/winata/.local/lib/python3.10/site-packages/traitlets/config/application.py\", line 113, in inner\n",
      "\u001b[1;31m    return method(app, *args, **kwargs)\n",
      "\u001b[1;31m  File \"/home/winata/.local/lib/python3.10/site-packages/jupyter_core/application.py\", line 247, in initialize\n",
      "\u001b[1;31m    self.parse_command_line(argv)\n",
      "\u001b[1;31m  File \"/home/winata/.local/lib/python3.10/site-packages/notebook/notebookapp.py\", line 1612, in parse_command_line\n",
      "\u001b[1;31m    super().parse_command_line(argv)\n",
      "\u001b[1;31m  File \"/home/winata/.local/lib/python3.10/site-packages/traitlets/config/application.py\", line 117, in inner\n",
      "\u001b[1;31m    app.exit(1)\n",
      "\u001b[1;31m  File \"/home/winata/.local/lib/python3.10/site-packages/traitlets/config/application.py\", line 1028, in exit\n",
      "\u001b[1;31m    sys.exit(exit_status)\n",
      "\u001b[1;31mSystemExit: 1\n",
      "\u001b[1;31m\n",
      "\u001b[1;31m[C 00:04:37.074 NotebookApp] Bad config encountered during initialization: No such notebook dir: ''/kelaswindata/windata''\n",
      "\u001b[1;31m\n",
      "\u001b[1;31mFailed to run jupyter as observable with args notebook --no-browser --notebook-dir=\"/kelaswindata/windata\" --config=/tmp/a2bbd648-8936-436b-a7dd-17113bad2278/jupyter_notebook_config.py --NotebookApp.iopub_data_rate_limit=10000000000.0"
     ]
    }
   ],
   "source": [
    "print(\"winata\")"
   ]
  }
 ],
 "metadata": {
  "kernelspec": {
   "display_name": "Python 3",
   "language": "python",
   "name": "python3"
  },
  "language_info": {
   "name": "python",
   "version": "3.10.6 (main, Nov 14 2022, 16:10:14) [GCC 11.3.0]"
  },
  "orig_nbformat": 4,
  "vscode": {
   "interpreter": {
    "hash": "916dbcbb3f70747c44a77c7bcd40155683ae19c65e1c03b4aa3499c5328201f1"
   }
  }
 },
 "nbformat": 4,
 "nbformat_minor": 2
}
